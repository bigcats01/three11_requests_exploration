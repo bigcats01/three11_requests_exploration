{
 "cells": [
  {
   "cell_type": "code",
   "execution_count": 16,
   "metadata": {
    "collapsed": true
   },
   "outputs": [],
   "source": [
    "import pandas as pd\n",
    "import sqlalchemy as sqla\n",
    "import datetime as dt"
   ]
  },
  {
   "cell_type": "code",
   "execution_count": 17,
   "outputs": [],
   "source": [
    "#disk_engine = sqla.create_engine(R'sqlite:///Q:\\reports_311\\311_8M.db')"
   ],
   "metadata": {
    "collapsed": false,
    "pycharm": {
     "name": "#%%\n"
    }
   }
  },
  {
   "cell_type": "code",
   "execution_count": 18,
   "outputs": [],
   "source": [
    "# Conversion code taken from a Plotly tutorial and slightly modified",
    "# start = dt.datetime.now()\n",
    "# chunksize = 20000\n",
    "# j = 0\n",
    "# index_start = 1\n",
    "#\n",
    "# for df in pd.read_csv(R\"Q:\\reports_311\\311_Service_Requests_Septmber.csv\", chunksize=chunksize, iterator=True, encoding='utf-8',low_memory=False):\n",
    "#\n",
    "#     df = df.rename(columns={c: c.replace(' ', '') for c in df.columns}) # Remove spaces from columns\n",
    "#\n",
    "#     df['CreatedDate'] = pd.to_datetime(df['CreatedDate']) # Convert to datetimes\n",
    "#     df['ClosedDate'] = pd.to_datetime(df['ClosedDate'])\n",
    "#\n",
    "#     df.index += index_start\n",
    "#\n",
    "#     # Remove the un-interesting columns\n",
    "#\n",
    "#     j+=1\n",
    "#     print('{} seconds: completed {} rows'.format((dt.datetime.now() - start).seconds, j*chunksize))\n",
    "#\n",
    "#     df.to_sql('data', disk_engine, if_exists='append')\n",
    "#     index_start = df.index[-1] + 1"
   ],
   "metadata": {
    "collapsed": false,
    "pycharm": {
     "name": "#%%\n"
    }
   }
  },
  {
   "cell_type": "code",
   "execution_count": 19,
   "outputs": [
    {
     "data": {
      "text/plain": "          index  UniqueKey                 CreatedDate  \\\n0             1   51710678  2021-09-01 00:00:00.000000   \n1             2   51700093  2021-09-01 00:00:05.000000   \n2             3   51698315  2021-09-01 00:00:50.000000   \n3             4   51698397  2021-09-01 00:00:50.000000   \n4             5   51709619  2021-09-01 00:01:00.000000   \n...         ...        ...                         ...   \n254116  1814117   52028575  2021-09-29 23:58:40.000000   \n254117  1814118   52026012  2021-09-29 23:58:53.000000   \n254118  1814119   52034506  2021-09-29 23:58:59.000000   \n254119  1814120   52028683  2021-09-29 23:59:20.000000   \n254120  1814121   52027164  2021-09-29 23:59:46.000000   \n\n                        ClosedDate Agency                       AgencyName  \\\n0       2021-10-19 12:58:00.000000    DOT     Department of Transportation   \n1       2021-09-01 01:35:19.000000   NYPD  New York City Police Department   \n2       2021-09-01 03:12:53.000000   NYPD  New York City Police Department   \n3       2021-09-01 00:52:38.000000   NYPD  New York City Police Department   \n4       2021-09-01 12:00:00.000000   DSNY         Department of Sanitation   \n...                            ...    ...                              ...   \n254116  2021-09-30 00:56:57.000000   NYPD  New York City Police Department   \n254117  2021-09-30 01:33:33.000000   NYPD  New York City Police Department   \n254118  2021-09-30 03:59:25.000000   NYPD  New York City Police Department   \n254119  2021-09-30 02:08:38.000000   NYPD  New York City Police Department   \n254120  2021-09-30 00:23:32.000000   NYPD  New York City Police Department   \n\n                  ComplaintType         Descriptor  \\\n0        Street Light Condition   Street Light Out   \n1               Noise - Vehicle    Car/Truck Music   \n2               Noise - Vehicle    Car/Truck Music   \n3           Noise - Residential   Banging/Pounding   \n4              Dirty Conditions  E3 Dirty Sidewalk   \n...                         ...                ...   \n254116      Noise - Residential   Loud Music/Party   \n254117      Noise - Residential   Loud Music/Party   \n254118  Noise - Street/Sidewalk   Loud Music/Party   \n254119          Noise - Vehicle    Car/Truck Music   \n254120       Noise - Commercial   Loud Music/Party   \n\n                      LocationType IncidentZip  ... VehicleType  \\\n0                             None     11104.0  ...        None   \n1                  Street/Sidewalk     10458.0  ...        None   \n2                  Street/Sidewalk     10472.0  ...        None   \n3       Residential Building/House     10467.0  ...        None   \n4                         Sidewalk     11223.0  ...        None   \n...                            ...         ...  ...         ...   \n254116  Residential Building/House     10305.0  ...        None   \n254117  Residential Building/House     10452.0  ...        None   \n254118             Street/Sidewalk     11237.0  ...        None   \n254119             Street/Sidewalk     10472.0  ...        None   \n254120            Store/Commercial     10013.0  ...        None   \n\n       TaxiCompanyBorough TaxiPickUpLocation BridgeHighwayName  \\\n0                    None               None              None   \n1                    None               None              None   \n2                    None               None              None   \n3                    None               None              None   \n4                    None               None              None   \n...                   ...                ...               ...   \n254116               None               None              None   \n254117               None               None              None   \n254118               None               None              None   \n254119               None               None              None   \n254120               None               None              None   \n\n       BridgeHighwayDirection RoadRamp BridgeHighwaySegment   Latitude  \\\n0                        None     None                 None  40.744791   \n1                        None     None                 None  40.865358   \n2                        None     None                 None  40.830181   \n3                        None     None                 None  40.884150   \n4                        None     None                 None  40.597335   \n...                       ...      ...                  ...        ...   \n254116                   None     None                 None  40.590757   \n254117                   None     None                 None  40.831447   \n254118                   None     None                 None  40.699733   \n254119                   None     None                 None  40.827755   \n254120                   None     None                 None  40.716108   \n\n        Longitude                                  Location  \n0      -73.917422  (40.744791406467726, -73.91742167156947)  \n1      -73.892495     (40.86535764249122, -73.892495473103)  \n2      -73.875717   (40.83018108184639, -73.87571695998837)  \n3      -73.877663   (40.88414951808322, -73.87766297790301)  \n4      -73.969943    (40.59733480704516, -73.9699432302203)  \n...           ...                                       ...  \n254116 -74.090003   (40.59075714410544, -74.09000301726373)  \n254117 -73.920162  (40.831447302010204, -73.92016162115374)  \n254118 -73.913193   (40.69973306881019, -73.91319303344328)  \n254119 -73.854558   (40.82775471005953, -73.85455792161561)  \n254120 -73.999848    (40.71610812583315, -73.9998484924085)  \n\n[254121 rows x 42 columns]",
      "text/html": "<div>\n<style scoped>\n    .dataframe tbody tr th:only-of-type {\n        vertical-align: middle;\n    }\n\n    .dataframe tbody tr th {\n        vertical-align: top;\n    }\n\n    .dataframe thead th {\n        text-align: right;\n    }\n</style>\n<table border=\"1\" class=\"dataframe\">\n  <thead>\n    <tr style=\"text-align: right;\">\n      <th></th>\n      <th>index</th>\n      <th>UniqueKey</th>\n      <th>CreatedDate</th>\n      <th>ClosedDate</th>\n      <th>Agency</th>\n      <th>AgencyName</th>\n      <th>ComplaintType</th>\n      <th>Descriptor</th>\n      <th>LocationType</th>\n      <th>IncidentZip</th>\n      <th>...</th>\n      <th>VehicleType</th>\n      <th>TaxiCompanyBorough</th>\n      <th>TaxiPickUpLocation</th>\n      <th>BridgeHighwayName</th>\n      <th>BridgeHighwayDirection</th>\n      <th>RoadRamp</th>\n      <th>BridgeHighwaySegment</th>\n      <th>Latitude</th>\n      <th>Longitude</th>\n      <th>Location</th>\n    </tr>\n  </thead>\n  <tbody>\n    <tr>\n      <th>0</th>\n      <td>1</td>\n      <td>51710678</td>\n      <td>2021-09-01 00:00:00.000000</td>\n      <td>2021-10-19 12:58:00.000000</td>\n      <td>DOT</td>\n      <td>Department of Transportation</td>\n      <td>Street Light Condition</td>\n      <td>Street Light Out</td>\n      <td>None</td>\n      <td>11104.0</td>\n      <td>...</td>\n      <td>None</td>\n      <td>None</td>\n      <td>None</td>\n      <td>None</td>\n      <td>None</td>\n      <td>None</td>\n      <td>None</td>\n      <td>40.744791</td>\n      <td>-73.917422</td>\n      <td>(40.744791406467726, -73.91742167156947)</td>\n    </tr>\n    <tr>\n      <th>1</th>\n      <td>2</td>\n      <td>51700093</td>\n      <td>2021-09-01 00:00:05.000000</td>\n      <td>2021-09-01 01:35:19.000000</td>\n      <td>NYPD</td>\n      <td>New York City Police Department</td>\n      <td>Noise - Vehicle</td>\n      <td>Car/Truck Music</td>\n      <td>Street/Sidewalk</td>\n      <td>10458.0</td>\n      <td>...</td>\n      <td>None</td>\n      <td>None</td>\n      <td>None</td>\n      <td>None</td>\n      <td>None</td>\n      <td>None</td>\n      <td>None</td>\n      <td>40.865358</td>\n      <td>-73.892495</td>\n      <td>(40.86535764249122, -73.892495473103)</td>\n    </tr>\n    <tr>\n      <th>2</th>\n      <td>3</td>\n      <td>51698315</td>\n      <td>2021-09-01 00:00:50.000000</td>\n      <td>2021-09-01 03:12:53.000000</td>\n      <td>NYPD</td>\n      <td>New York City Police Department</td>\n      <td>Noise - Vehicle</td>\n      <td>Car/Truck Music</td>\n      <td>Street/Sidewalk</td>\n      <td>10472.0</td>\n      <td>...</td>\n      <td>None</td>\n      <td>None</td>\n      <td>None</td>\n      <td>None</td>\n      <td>None</td>\n      <td>None</td>\n      <td>None</td>\n      <td>40.830181</td>\n      <td>-73.875717</td>\n      <td>(40.83018108184639, -73.87571695998837)</td>\n    </tr>\n    <tr>\n      <th>3</th>\n      <td>4</td>\n      <td>51698397</td>\n      <td>2021-09-01 00:00:50.000000</td>\n      <td>2021-09-01 00:52:38.000000</td>\n      <td>NYPD</td>\n      <td>New York City Police Department</td>\n      <td>Noise - Residential</td>\n      <td>Banging/Pounding</td>\n      <td>Residential Building/House</td>\n      <td>10467.0</td>\n      <td>...</td>\n      <td>None</td>\n      <td>None</td>\n      <td>None</td>\n      <td>None</td>\n      <td>None</td>\n      <td>None</td>\n      <td>None</td>\n      <td>40.884150</td>\n      <td>-73.877663</td>\n      <td>(40.88414951808322, -73.87766297790301)</td>\n    </tr>\n    <tr>\n      <th>4</th>\n      <td>5</td>\n      <td>51709619</td>\n      <td>2021-09-01 00:01:00.000000</td>\n      <td>2021-09-01 12:00:00.000000</td>\n      <td>DSNY</td>\n      <td>Department of Sanitation</td>\n      <td>Dirty Conditions</td>\n      <td>E3 Dirty Sidewalk</td>\n      <td>Sidewalk</td>\n      <td>11223.0</td>\n      <td>...</td>\n      <td>None</td>\n      <td>None</td>\n      <td>None</td>\n      <td>None</td>\n      <td>None</td>\n      <td>None</td>\n      <td>None</td>\n      <td>40.597335</td>\n      <td>-73.969943</td>\n      <td>(40.59733480704516, -73.9699432302203)</td>\n    </tr>\n    <tr>\n      <th>...</th>\n      <td>...</td>\n      <td>...</td>\n      <td>...</td>\n      <td>...</td>\n      <td>...</td>\n      <td>...</td>\n      <td>...</td>\n      <td>...</td>\n      <td>...</td>\n      <td>...</td>\n      <td>...</td>\n      <td>...</td>\n      <td>...</td>\n      <td>...</td>\n      <td>...</td>\n      <td>...</td>\n      <td>...</td>\n      <td>...</td>\n      <td>...</td>\n      <td>...</td>\n      <td>...</td>\n    </tr>\n    <tr>\n      <th>254116</th>\n      <td>1814117</td>\n      <td>52028575</td>\n      <td>2021-09-29 23:58:40.000000</td>\n      <td>2021-09-30 00:56:57.000000</td>\n      <td>NYPD</td>\n      <td>New York City Police Department</td>\n      <td>Noise - Residential</td>\n      <td>Loud Music/Party</td>\n      <td>Residential Building/House</td>\n      <td>10305.0</td>\n      <td>...</td>\n      <td>None</td>\n      <td>None</td>\n      <td>None</td>\n      <td>None</td>\n      <td>None</td>\n      <td>None</td>\n      <td>None</td>\n      <td>40.590757</td>\n      <td>-74.090003</td>\n      <td>(40.59075714410544, -74.09000301726373)</td>\n    </tr>\n    <tr>\n      <th>254117</th>\n      <td>1814118</td>\n      <td>52026012</td>\n      <td>2021-09-29 23:58:53.000000</td>\n      <td>2021-09-30 01:33:33.000000</td>\n      <td>NYPD</td>\n      <td>New York City Police Department</td>\n      <td>Noise - Residential</td>\n      <td>Loud Music/Party</td>\n      <td>Residential Building/House</td>\n      <td>10452.0</td>\n      <td>...</td>\n      <td>None</td>\n      <td>None</td>\n      <td>None</td>\n      <td>None</td>\n      <td>None</td>\n      <td>None</td>\n      <td>None</td>\n      <td>40.831447</td>\n      <td>-73.920162</td>\n      <td>(40.831447302010204, -73.92016162115374)</td>\n    </tr>\n    <tr>\n      <th>254118</th>\n      <td>1814119</td>\n      <td>52034506</td>\n      <td>2021-09-29 23:58:59.000000</td>\n      <td>2021-09-30 03:59:25.000000</td>\n      <td>NYPD</td>\n      <td>New York City Police Department</td>\n      <td>Noise - Street/Sidewalk</td>\n      <td>Loud Music/Party</td>\n      <td>Street/Sidewalk</td>\n      <td>11237.0</td>\n      <td>...</td>\n      <td>None</td>\n      <td>None</td>\n      <td>None</td>\n      <td>None</td>\n      <td>None</td>\n      <td>None</td>\n      <td>None</td>\n      <td>40.699733</td>\n      <td>-73.913193</td>\n      <td>(40.69973306881019, -73.91319303344328)</td>\n    </tr>\n    <tr>\n      <th>254119</th>\n      <td>1814120</td>\n      <td>52028683</td>\n      <td>2021-09-29 23:59:20.000000</td>\n      <td>2021-09-30 02:08:38.000000</td>\n      <td>NYPD</td>\n      <td>New York City Police Department</td>\n      <td>Noise - Vehicle</td>\n      <td>Car/Truck Music</td>\n      <td>Street/Sidewalk</td>\n      <td>10472.0</td>\n      <td>...</td>\n      <td>None</td>\n      <td>None</td>\n      <td>None</td>\n      <td>None</td>\n      <td>None</td>\n      <td>None</td>\n      <td>None</td>\n      <td>40.827755</td>\n      <td>-73.854558</td>\n      <td>(40.82775471005953, -73.85455792161561)</td>\n    </tr>\n    <tr>\n      <th>254120</th>\n      <td>1814121</td>\n      <td>52027164</td>\n      <td>2021-09-29 23:59:46.000000</td>\n      <td>2021-09-30 00:23:32.000000</td>\n      <td>NYPD</td>\n      <td>New York City Police Department</td>\n      <td>Noise - Commercial</td>\n      <td>Loud Music/Party</td>\n      <td>Store/Commercial</td>\n      <td>10013.0</td>\n      <td>...</td>\n      <td>None</td>\n      <td>None</td>\n      <td>None</td>\n      <td>None</td>\n      <td>None</td>\n      <td>None</td>\n      <td>None</td>\n      <td>40.716108</td>\n      <td>-73.999848</td>\n      <td>(40.71610812583315, -73.9998484924085)</td>\n    </tr>\n  </tbody>\n</table>\n<p>254121 rows × 42 columns</p>\n</div>"
     },
     "execution_count": 19,
     "metadata": {},
     "output_type": "execute_result"
    }
   ],
   "source": [
    "disk_engine = sqla.create_engine(R'sqlite:///Q:\\reports_311\\311_8M.db')\n",
    "df = pd.read_sql_query('SELECT * FROM data', disk_engine)\n",
    "df"
   ],
   "metadata": {
    "collapsed": false,
    "pycharm": {
     "name": "#%%\n"
    }
   }
  },
  {
   "cell_type": "code",
   "execution_count": 20,
   "outputs": [],
   "source": [
    "q1 = pd.read_sql_query('''\n",
    "SELECT AgencyName, COUNT(DISTINCT(ComplaintType)) FROM data\n",
    "GROUP BY AgencyName\n",
    "\n",
    "\n",
    "''', disk_engine)"
   ],
   "metadata": {
    "collapsed": false,
    "pycharm": {
     "name": "#%%\n"
    }
   }
  },
  {
   "cell_type": "code",
   "execution_count": 21,
   "outputs": [
    {
     "data": {
      "text/plain": "                                           AgencyName  \\\n0                            Department for the Aging   \n1                             Department of Buildings   \n2                      Department of Consumer Affairs   \n3                             Department of Education   \n4              Department of Environmental Protection   \n5             Department of Health and Mental Hygiene   \n6                     Department of Homeless Services   \n7   Department of Housing Preservation and Develop...   \n8   Department of Information Technology and Telec...   \n9                  Department of Parks and Recreation   \n10                           Department of Sanitation   \n11                       Department of Transportation   \n12                   Economic Development Corporation   \n13            Mayorâs Office of Special Enforcement   \n14                    New York City Police Department   \n15                      Taxi and Limousine Commission   \n\n    COUNT(DISTINCT(ComplaintType))  \n0                                1  \n1                               15  \n2                                1  \n3                                1  \n4                               11  \n5                               32  \n6                                2  \n7                               13  \n8                                2  \n9                               11  \n10                              29  \n11                              26  \n12                               1  \n13                               1  \n14                              23  \n15                              10  ",
      "text/html": "<div>\n<style scoped>\n    .dataframe tbody tr th:only-of-type {\n        vertical-align: middle;\n    }\n\n    .dataframe tbody tr th {\n        vertical-align: top;\n    }\n\n    .dataframe thead th {\n        text-align: right;\n    }\n</style>\n<table border=\"1\" class=\"dataframe\">\n  <thead>\n    <tr style=\"text-align: right;\">\n      <th></th>\n      <th>AgencyName</th>\n      <th>COUNT(DISTINCT(ComplaintType))</th>\n    </tr>\n  </thead>\n  <tbody>\n    <tr>\n      <th>0</th>\n      <td>Department for the Aging</td>\n      <td>1</td>\n    </tr>\n    <tr>\n      <th>1</th>\n      <td>Department of Buildings</td>\n      <td>15</td>\n    </tr>\n    <tr>\n      <th>2</th>\n      <td>Department of Consumer Affairs</td>\n      <td>1</td>\n    </tr>\n    <tr>\n      <th>3</th>\n      <td>Department of Education</td>\n      <td>1</td>\n    </tr>\n    <tr>\n      <th>4</th>\n      <td>Department of Environmental Protection</td>\n      <td>11</td>\n    </tr>\n    <tr>\n      <th>5</th>\n      <td>Department of Health and Mental Hygiene</td>\n      <td>32</td>\n    </tr>\n    <tr>\n      <th>6</th>\n      <td>Department of Homeless Services</td>\n      <td>2</td>\n    </tr>\n    <tr>\n      <th>7</th>\n      <td>Department of Housing Preservation and Develop...</td>\n      <td>13</td>\n    </tr>\n    <tr>\n      <th>8</th>\n      <td>Department of Information Technology and Telec...</td>\n      <td>2</td>\n    </tr>\n    <tr>\n      <th>9</th>\n      <td>Department of Parks and Recreation</td>\n      <td>11</td>\n    </tr>\n    <tr>\n      <th>10</th>\n      <td>Department of Sanitation</td>\n      <td>29</td>\n    </tr>\n    <tr>\n      <th>11</th>\n      <td>Department of Transportation</td>\n      <td>26</td>\n    </tr>\n    <tr>\n      <th>12</th>\n      <td>Economic Development Corporation</td>\n      <td>1</td>\n    </tr>\n    <tr>\n      <th>13</th>\n      <td>Mayorâs Office of Special Enforcement</td>\n      <td>1</td>\n    </tr>\n    <tr>\n      <th>14</th>\n      <td>New York City Police Department</td>\n      <td>23</td>\n    </tr>\n    <tr>\n      <th>15</th>\n      <td>Taxi and Limousine Commission</td>\n      <td>10</td>\n    </tr>\n  </tbody>\n</table>\n</div>"
     },
     "execution_count": 21,
     "metadata": {},
     "output_type": "execute_result"
    }
   ],
   "source": [
    "q1"
   ],
   "metadata": {
    "collapsed": false,
    "pycharm": {
     "name": "#%%\n"
    }
   }
  },
  {
   "cell_type": "code",
   "execution_count": 22,
   "outputs": [],
   "source": [
    "q2 =  pd.read_sql_query('''\n",
    "SELECT AgencyName, COUNT(ComplaintType) FROM data\n",
    "WHERE VehicleType NOT LIKE 'None'\n",
    "GROUP BY AgencyName\n",
    "\n",
    "\n",
    "''', disk_engine)\n"
   ],
   "metadata": {
    "collapsed": false,
    "pycharm": {
     "name": "#%%\n"
    }
   }
  },
  {
   "cell_type": "code",
   "execution_count": 23,
   "outputs": [
    {
     "data": {
      "text/plain": "                      AgencyName  COUNT(ComplaintType)\n0  Taxi and Limousine Commission                    59",
      "text/html": "<div>\n<style scoped>\n    .dataframe tbody tr th:only-of-type {\n        vertical-align: middle;\n    }\n\n    .dataframe tbody tr th {\n        vertical-align: top;\n    }\n\n    .dataframe thead th {\n        text-align: right;\n    }\n</style>\n<table border=\"1\" class=\"dataframe\">\n  <thead>\n    <tr style=\"text-align: right;\">\n      <th></th>\n      <th>AgencyName</th>\n      <th>COUNT(ComplaintType)</th>\n    </tr>\n  </thead>\n  <tbody>\n    <tr>\n      <th>0</th>\n      <td>Taxi and Limousine Commission</td>\n      <td>59</td>\n    </tr>\n  </tbody>\n</table>\n</div>"
     },
     "execution_count": 23,
     "metadata": {},
     "output_type": "execute_result"
    }
   ],
   "source": [
    "q2"
   ],
   "metadata": {
    "collapsed": false,
    "pycharm": {
     "name": "#%%\n"
    }
   }
  },
  {
   "cell_type": "code",
   "execution_count": 24,
   "outputs": [],
   "source": [
    "q3 =  pd.read_sql_query('''\n",
    "SELECT COUNT(ComplaintType),\n",
    "    CASE\n",
    "    WHEN AgencyName = 'Department of Transportation' THEN 'DOT'\n",
    "    WHEN AgencyName = 'Taxi and Limousine Commission' THEN 'T&LC'\n",
    "    ELSE AgencyName\n",
    "    END AS SomeShortAgencyName\n",
    "FROM data\n",
    "\n",
    "GROUP BY SomeShortAgencyName\n",
    "ORDER BY length(SomeShortAgencyName)\n",
    "\n",
    "\n",
    "''', disk_engine)"
   ],
   "metadata": {
    "collapsed": false,
    "pycharm": {
     "name": "#%%\n"
    }
   }
  },
  {
   "cell_type": "code",
   "execution_count": 25,
   "outputs": [
    {
     "data": {
      "text/plain": "    COUNT(ComplaintType)                                SomeShortAgencyName\n0                  18921                                                DOT\n1                   1908                                               T&LC\n2                   8466                            Department of Buildings\n3                    144                            Department of Education\n4                      9                           Department for the Aging\n5                  20638                           Department of Sanitation\n6                   1805                     Department of Consumer Affairs\n7                   5189                    Department of Homeless Services\n8                 130351                    New York City Police Department\n9                   1865                   Economic Development Corporation\n10                 11316                 Department of Parks and Recreation\n11                 20759             Department of Environmental Protection\n12                  8476            Department of Health and Mental Hygiene\n13                   237            Mayorâs Office of Special Enforcement\n14                 24014  Department of Housing Preservation and Develop...\n15                    23  Department of Information Technology and Telec...",
      "text/html": "<div>\n<style scoped>\n    .dataframe tbody tr th:only-of-type {\n        vertical-align: middle;\n    }\n\n    .dataframe tbody tr th {\n        vertical-align: top;\n    }\n\n    .dataframe thead th {\n        text-align: right;\n    }\n</style>\n<table border=\"1\" class=\"dataframe\">\n  <thead>\n    <tr style=\"text-align: right;\">\n      <th></th>\n      <th>COUNT(ComplaintType)</th>\n      <th>SomeShortAgencyName</th>\n    </tr>\n  </thead>\n  <tbody>\n    <tr>\n      <th>0</th>\n      <td>18921</td>\n      <td>DOT</td>\n    </tr>\n    <tr>\n      <th>1</th>\n      <td>1908</td>\n      <td>T&amp;LC</td>\n    </tr>\n    <tr>\n      <th>2</th>\n      <td>8466</td>\n      <td>Department of Buildings</td>\n    </tr>\n    <tr>\n      <th>3</th>\n      <td>144</td>\n      <td>Department of Education</td>\n    </tr>\n    <tr>\n      <th>4</th>\n      <td>9</td>\n      <td>Department for the Aging</td>\n    </tr>\n    <tr>\n      <th>5</th>\n      <td>20638</td>\n      <td>Department of Sanitation</td>\n    </tr>\n    <tr>\n      <th>6</th>\n      <td>1805</td>\n      <td>Department of Consumer Affairs</td>\n    </tr>\n    <tr>\n      <th>7</th>\n      <td>5189</td>\n      <td>Department of Homeless Services</td>\n    </tr>\n    <tr>\n      <th>8</th>\n      <td>130351</td>\n      <td>New York City Police Department</td>\n    </tr>\n    <tr>\n      <th>9</th>\n      <td>1865</td>\n      <td>Economic Development Corporation</td>\n    </tr>\n    <tr>\n      <th>10</th>\n      <td>11316</td>\n      <td>Department of Parks and Recreation</td>\n    </tr>\n    <tr>\n      <th>11</th>\n      <td>20759</td>\n      <td>Department of Environmental Protection</td>\n    </tr>\n    <tr>\n      <th>12</th>\n      <td>8476</td>\n      <td>Department of Health and Mental Hygiene</td>\n    </tr>\n    <tr>\n      <th>13</th>\n      <td>237</td>\n      <td>Mayorâs Office of Special Enforcement</td>\n    </tr>\n    <tr>\n      <th>14</th>\n      <td>24014</td>\n      <td>Department of Housing Preservation and Develop...</td>\n    </tr>\n    <tr>\n      <th>15</th>\n      <td>23</td>\n      <td>Department of Information Technology and Telec...</td>\n    </tr>\n  </tbody>\n</table>\n</div>"
     },
     "execution_count": 25,
     "metadata": {},
     "output_type": "execute_result"
    }
   ],
   "source": [
    "q3"
   ],
   "metadata": {
    "collapsed": false,
    "pycharm": {
     "name": "#%%\n"
    }
   }
  },
  {
   "cell_type": "code",
   "execution_count": 25,
   "outputs": [],
   "source": [],
   "metadata": {
    "collapsed": false,
    "pycharm": {
     "name": "#%%\n"
    }
   }
  }
 ],
 "metadata": {
  "kernelspec": {
   "display_name": "Python 3",
   "language": "python",
   "name": "python3"
  },
  "language_info": {
   "codemirror_mode": {
    "name": "ipython",
    "version": 2
   },
   "file_extension": ".py",
   "mimetype": "text/x-python",
   "name": "python",
   "nbconvert_exporter": "python",
   "pygments_lexer": "ipython2",
   "version": "2.7.6"
  }
 },
 "nbformat": 4,
 "nbformat_minor": 0
}
