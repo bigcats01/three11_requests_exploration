{
 "cells": [
  {
   "cell_type": "code",
   "execution_count": 31,
   "metadata": {
    "collapsed": true
   },
   "outputs": [],
   "source": [
    "import pandas as pd\n",
    "import datetime as dt\n",
    "import matplotlib.pyplot as plt\n",
    "import seaborn as sns\n",
    "from matplotlib.backends.backend_pdf import PdfPages\n",
    "from matplotlib import rc\n",
    "import numpy as np\n",
    "from matplotlib import pyplot as plt\n",
    "%matplotlib inline\n"
   ]
  },
  {
   "cell_type": "code",
   "execution_count": 32,
   "outputs": [],
   "source": [
    "d = pd.read_csv('311_Service_Requests_from_2010_to_Present.csv',low_memory=False)"
   ],
   "metadata": {
    "collapsed": false,
    "pycharm": {
     "name": "#%%\n"
    }
   }
  },
  {
   "cell_type": "markdown",
   "source": [
    "After loading data, lets look at the columns we have"
   ],
   "metadata": {
    "collapsed": false,
    "pycharm": {
     "name": "#%% md\n"
    }
   }
  },
  {
   "cell_type": "code",
   "execution_count": 33,
   "outputs": [
    {
     "data": {
      "text/plain": "['Unique Key',\n 'Created Date',\n 'Closed Date',\n 'Agency',\n 'Agency Name',\n 'Complaint Type',\n 'Descriptor',\n 'Location Type',\n 'Incident Zip',\n 'Incident Address',\n 'Street Name',\n 'Cross Street 1',\n 'Cross Street 2',\n 'Intersection Street 1',\n 'Intersection Street 2',\n 'Address Type',\n 'City',\n 'Landmark',\n 'Facility Type',\n 'Status',\n 'Due Date',\n 'Resolution Description',\n 'Resolution Action Updated Date',\n 'Community Board',\n 'BBL',\n 'Borough',\n 'X Coordinate (State Plane)',\n 'Y Coordinate (State Plane)',\n 'Open Data Channel Type',\n 'Park Facility Name',\n 'Park Borough',\n 'Vehicle Type',\n 'Taxi Company Borough',\n 'Taxi Pick Up Location',\n 'Bridge Highway Name',\n 'Bridge Highway Direction',\n 'Road Ramp',\n 'Bridge Highway Segment',\n 'Latitude',\n 'Longitude',\n 'Location']"
     },
     "execution_count": 33,
     "metadata": {},
     "output_type": "execute_result"
    }
   ],
   "source": [
    "d.columns.to_list()"
   ],
   "metadata": {
    "collapsed": false,
    "pycharm": {
     "name": "#%%\n"
    }
   }
  },
  {
   "cell_type": "markdown",
   "source": [
    "Let's make sure that we have one row for each unique event."
   ],
   "metadata": {
    "collapsed": false,
    "pycharm": {
     "name": "#%% md\n"
    }
   }
  },
  {
   "cell_type": "code",
   "execution_count": 34,
   "outputs": [
    {
     "data": {
      "text/plain": "0"
     },
     "execution_count": 34,
     "metadata": {},
     "output_type": "execute_result"
    }
   ],
   "source": [
    "len(d) - len(d['Unique Key'].unique())"
   ],
   "metadata": {
    "collapsed": false,
    "pycharm": {
     "name": "#%%\n"
    }
   }
  },
  {
   "cell_type": "markdown",
   "source": [
    "Confirm that we downloaded only the September data"
   ],
   "metadata": {
    "collapsed": false,
    "pycharm": {
     "name": "#%% md\n"
    }
   }
  },
  {
   "cell_type": "code",
   "execution_count": null,
   "outputs": [
    {
     "name": "stdout",
     "output_type": "stream",
     "text": [
      "First date in db 09/01/2021 01:00:26 AM\n",
      "Last date in db 09/29/2021 12:59:56 AM\n"
     ]
    }
   ],
   "source": [
    "print('First date in db ' + min(d['Created Date']))\n",
    "print('Last date in db ' + max(d['Created Date']))\n",
    "d['Date'] = pd.to_datetime(d['Created Date']).dt.date"
   ],
   "metadata": {
    "collapsed": false,
    "pycharm": {
     "name": "#%%\n",
     "is_executing": true
    }
   }
  },
  {
   "cell_type": "markdown",
   "source": [
    "Take a look at the most reported and least reported Complaint Types for September"
   ],
   "metadata": {
    "collapsed": false,
    "pycharm": {
     "name": "#%% md\n"
    }
   }
  },
  {
   "cell_type": "code",
   "execution_count": null,
   "outputs": [],
   "source": [
    "summary_of_complaint_types = d['Complaint Type'].value_counts().rename_axis('unique_values').reset_index()\n",
    "summary_of_complaint_types"
   ],
   "metadata": {
    "collapsed": false,
    "pycharm": {
     "name": "#%%\n",
     "is_executing": true
    }
   }
  },
  {
   "cell_type": "markdown",
   "source": [
    "The complaint type of \"Radioactive Material\" is rather suspicious, let's see what and when that happened"
   ],
   "metadata": {
    "collapsed": false,
    "pycharm": {
     "name": "#%% md\n"
    }
   }
  },
  {
   "cell_type": "code",
   "execution_count": null,
   "outputs": [],
   "source": [
    "d[d['Complaint Type'] == 'Radioactive Material'][['Descriptor','Date']]"
   ],
   "metadata": {
    "collapsed": false,
    "pycharm": {
     "name": "#%%\n",
     "is_executing": true
    }
   }
  },
  {
   "cell_type": "markdown",
   "source": [
    "How are the volume of complaints distributed throughout the Boroughs?"
   ],
   "metadata": {
    "collapsed": false,
    "pycharm": {
     "name": "#%% md\n"
    }
   }
  },
  {
   "cell_type": "code",
   "execution_count": null,
   "outputs": [],
   "source": [
    "d['Borough'].value_counts()"
   ],
   "metadata": {
    "collapsed": false,
    "pycharm": {
     "name": "#%%\n",
     "is_executing": true
    }
   }
  },
  {
   "cell_type": "markdown",
   "source": [
    "How are the volume of complaints distributed throughout the dates of the month?"
   ],
   "metadata": {
    "collapsed": false,
    "pycharm": {
     "name": "#%% md\n"
    }
   }
  },
  {
   "cell_type": "code",
   "execution_count": null,
   "outputs": [],
   "source": [
    "d.groupby(['Date']).size()"
   ],
   "metadata": {
    "collapsed": false,
    "pycharm": {
     "name": "#%%\n",
     "is_executing": true
    }
   }
  },
  {
   "cell_type": "markdown",
   "source": [
    "Create a pivot table of counts of complaints between boroughs and agency"
   ],
   "metadata": {
    "collapsed": false,
    "pycharm": {
     "name": "#%% md\n"
    }
   }
  },
  {
   "cell_type": "code",
   "execution_count": null,
   "outputs": [],
   "source": [
    "\n",
    "piv = pd.pivot_table(d, index='Borough',columns='Agency',values='Unique Key',aggfunc= lambda x: len(x))\n",
    "piv = piv.fillna(0)\n",
    "piv\n"
   ],
   "metadata": {
    "collapsed": false,
    "pycharm": {
     "name": "#%%\n",
     "is_executing": true
    }
   }
  },
  {
   "cell_type": "code",
   "execution_count": null,
   "outputs": [],
   "source": [
    "ui = sns.color_palette(\"cubehelix\")\n",
    "#ui = ['#7fb24d','#4ac9c9','#488cd1','#4545d9','#9143e0','#f73939','#ff9935']\n",
    "sns.set(style='white', palette= sns.palplot(sns.color_palette(\"cubehelix\")),font='sans-serif')\n",
    "            #sns.palplot(sns.color_palette(flatui))\n",
    "fig, axs = plt.subplots(2, 1, dpi =600,figsize=(11, 8.5));\n",
    "fig.subplots_adjust(wspace=.5)\n",
    "# rc('font', **{'family': 'serif', 'serif': ['Computer Modern']})\n",
    "# rc('text', usetex=True)\n",
    "plt.tick_params(\n",
    "axis='x',          # changes apply to the x-axis\n",
    "which='both',      # both major and minor ticks are affected\n",
    "bottom=False,      # ticks along the bottom edge are off\n",
    "top=False,         # ticks along the top edge are off\n",
    "labelbottom=False) # labels along the bottom edge are off\n",
    "\n",
    "sns.lineplot(data=d.groupby(['Date']).size(), x=d.groupby(['Date']).size().index,y=d.groupby(['Date']).size(), ax=axs[0]);\n",
    "axs[0].set_xlabel('')\n",
    "axs[0].set_ylabel('')\n",
    "axs[0].set_xticks([])\n",
    "axs[0].set_title('Borough',size = 'small', usetex = True)\n",
    "axs[0].tick_params(axis='y', which='major', labelsize=8)\n",
    "sns.despine(top=True, right=True, left=False, bottom=True,offset=True)\n",
    "\n",
    "\n",
    "sns.countplot(y='Borough', data=d, palette = ui,orient='h',order = d['Borough'].value_counts().index, ax=axs[1]);\n",
    "axs[1].set_xlabel('')\n",
    "axs[1].set_ylabel('')\n",
    "axs[1].set_xticks([])\n",
    "axs[1].set_title('Borough',size = 'small', usetex = True)\n",
    "axs[1].tick_params(axis='y', which='major', labelsize=8)\n",
    "sns.despine(top=True, right=True, left=False, bottom=True,offset=True)\n",
    "sumwidth = []\n",
    "for p in axs[1].patches:\n",
    "    axs[1].annotate(int(p.get_width()),((p.get_x() + p.get_width()), p.get_y()), xytext=(15, -8),\n",
    "             fontsize=8,color='#000000',textcoords='offset points'\n",
    "             ,horizontalalignment='center')\n",
    "    sumwidth.append(int(p.get_width()))\n",
    "sumwidth = np.sum(sumwidth)\n",
    "for p in axs[1].patches:\n",
    "    axs[1].annotate('{:.0f}\\%'.format((int(p.get_width())/sumwidth)*100),((p.get_x() + p.get_width()), p.get_y()+.3), xytext=(15, -8),\n",
    "             fontsize=8,color='#000000',textcoords='offset points'\n",
    "             ,horizontalalignment='center')\n",
    "#########################################################################################################################################\n",
    "##########################################################################################################################################\n",
    "\n",
    "\n",
    "\n",
    "# sns.countplot(y='Borough', data=d, palette = ui,orient='h',order = d['Borough'].value_counts().index, ax=axs[2]);\n",
    "# axs[2].set_xlabel('')\n",
    "# axs[2].set_ylabel('')\n",
    "# axs[2].set_xticks([])\n",
    "# axs[2].set_title('Borough',size = 'small', usetex = True)\n",
    "# axs[2].tick_params(axis='y', which='major', labelsize=8)\n",
    "# sns.despine(top=True, right=True, left=False, bottom=True,offset=True)\n",
    "# sumwidth = []\n",
    "# for p in axs[2].patches:\n",
    "#     axs[2].annotate(int(p.get_width()),((p.get_x() + p.get_width()), p.get_y()), xytext=(15, -8),\n",
    "#              fontsize=8,color='#000000',textcoords='offset points'\n",
    "#              ,horizontalalignment='center')\n",
    "#     sumwidth.append(int(p.get_width()))\n",
    "# sumwidth = np.sum(sumwidth)\n",
    "# for p in axs[2].patches:\n",
    "#     axs[2].annotate('{:.0f}\\%'.format((int(p.get_width())/sumwidth)*100),((p.get_x() + p.get_width()), p.get_y()+.3), xytext=(15, -8),\n",
    "#              fontsize=8,color='#000000',textcoords='offset points'\n",
    "#              ,horizontalalignment='center')\n",
    "#########################################################################################################################################\n",
    "##########################################################################################################################################\n",
    "#axs[2].barh(y=d.groupby(['Borough'])['Status'].size().sort_values(ascending=True).index, width=d.groupby(['Borough'])['Status'].size().sort_values(ascending=True),); #order = d['Borough'].value_counts().index\n",
    "# piv = pd.pivot_table(d, index='Borough',columns='Agency',values='Unique Key',aggfunc= lambda x: len(x))\n",
    "# piv = piv.fillna(0)\n",
    "# piv.plot(kind='bar',color=sns.color_palette(\"cubehelix\").as_hex(), ax = axs[2])\n",
    "# #d.groupby(['Borough','Agency'])['Agency'].size()\n",
    "# axs[2].set_xlabel('')\n",
    "# axs[2].set_ylabel('')\n",
    "# axs[2].set_xticks([])\n",
    "# axs[2].set_title('Agency',size = 'small', usetex = True)\n",
    "# axs[2].tick_params(axis='y', which='major', labelsize=8)\n",
    "# sns.despine(top=True, right=True, left=False, bottom=True,offset=True)\n",
    "# sumwidth = []\n",
    "# for p in axs[2].patches:\n",
    "#     axs[2].annotate(int(p.get_width()),((p.get_x() + p.get_width()), p.get_y()), xytext=(15, -2),\n",
    "#              fontsize=8,color='#000000',textcoords='offset points'\n",
    "#              ,horizontalalignment='center')\n",
    "#     sumwidth.append(int(p.get_width()))\n",
    "# sumwidth = np.sum(sumwidth)\n",
    "# for p in axs[2].patches:\n",
    "#     axs[2].annotate('{:.0f}\\%'.format((int(p.get_width())/sumwidth)*100),((p.get_x() + p.get_width()), p.get_y()+.3), xytext=(15, -2),\n",
    "#              fontsize=8,color='#000000',textcoords='offset points'\n",
    "#              ,horizontalalignment='center')\n",
    "plt.savefig(R'Q:\\reports_311\\test.pdf')\n",
    "plt.show()"
   ],
   "metadata": {
    "collapsed": false,
    "pycharm": {
     "name": "#%%\n",
     "is_executing": true
    }
   }
  },
  {
   "cell_type": "code",
   "execution_count": null,
   "outputs": [],
   "source": [
    "print('Done')"
   ],
   "metadata": {
    "collapsed": false,
    "pycharm": {
     "name": "#%%\n",
     "is_executing": true
    }
   }
  },
  {
   "cell_type": "code",
   "execution_count": null,
   "outputs": [],
   "source": [],
   "metadata": {
    "collapsed": false,
    "pycharm": {
     "name": "#%%\n",
     "is_executing": true
    }
   }
  }
 ],
 "metadata": {
  "kernelspec": {
   "name": "python3",
   "language": "python",
   "display_name": "Python 3 (ipykernel)"
  },
  "language_info": {
   "codemirror_mode": {
    "name": "ipython",
    "version": 2
   },
   "file_extension": ".py",
   "mimetype": "text/x-python",
   "name": "python",
   "nbconvert_exporter": "python",
   "pygments_lexer": "ipython2",
   "version": "2.7.6"
  }
 },
 "nbformat": 4,
 "nbformat_minor": 0
}